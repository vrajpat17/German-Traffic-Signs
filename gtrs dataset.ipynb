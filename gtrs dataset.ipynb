{
 "cells": [
  {
   "cell_type": "code",
   "execution_count": 3,
   "metadata": {},
   "outputs": [],
   "source": [
    "import os\n",
    "import cv2\n",
    "from PIL import Image\n",
    "import pandas as pd\n",
    "import numpy as np\n",
    "import random\n",
    "import tensorflow as tf\n",
    "import keras\n",
    "from tensorflow.keras.layers import Flatten, Conv2D, MaxPooling2D, Dropout, Dense\n",
    "from tensorflow.keras.utils import to_categorical\n",
    "from sklearn.model_selection import train_test_split"
   ]
  },
  {
   "cell_type": "code",
   "execution_count": 37,
   "metadata": {},
   "outputs": [
    {
     "name": "stdout",
     "output_type": "stream",
     "text": [
      "Train/0/\n",
      "Train/1/\n",
      "Train/2/\n",
      "Train/3/\n",
      "Train/4/\n",
      "Train/5/\n",
      "Train/6/\n",
      "Train/7/\n",
      "Train/8/\n",
      "Train/9/\n",
      "Train/10/\n",
      "Train/11/\n",
      "Train/12/\n",
      "Train/13/\n",
      "Train/14/\n",
      "Train/15/\n",
      "Train/16/\n",
      "Train/17/\n",
      "Train/18/\n",
      "Train/19/\n",
      "Train/20/\n",
      "Train/21/\n",
      "Train/22/\n",
      "Train/23/\n",
      "Train/24/\n",
      "Train/25/\n",
      "Train/26/\n",
      "Train/27/\n",
      "Train/28/\n",
      "Train/29/\n",
      "Train/30/\n",
      "Train/31/\n",
      "Train/32/\n",
      "Train/33/\n",
      "Train/34/\n",
      "Train/35/\n",
      "Train/36/\n",
      "Train/37/\n",
      "Train/38/\n",
      "Train/39/\n",
      "Train/40/\n",
      "Train/41/\n",
      "Train/42/\n"
     ]
    }
   ],
   "source": [
    "data = []\n",
    "labels = []\n",
    "height = 30\n",
    "width = 30\n",
    "channels = 3\n",
    "num_classes = 43\n",
    "\n",
    "\n",
    "for i in range(43) :\n",
    "    path = \"Train/{0}/\".format(i)\n",
    "    print(path)\n",
    "    Class=os.listdir(path)\n",
    "    \n",
    "    for a in Class:\n",
    "        try:\n",
    "            image=cv2.imread(path+a)\n",
    "            image_from_array = Image.fromarray(image, 'RGB')\n",
    "            size_image = image_from_array.resize((height, width))\n",
    "            data.append(np.array(size_image))\n",
    "            labels.append(i)\n",
    "        except AttributeError:\n",
    "            print(\" \")\n",
    "    "
   ]
  },
  {
   "cell_type": "code",
   "execution_count": 38,
   "metadata": {},
   "outputs": [],
   "source": [
    "x_train = np.array(data)\n",
    "x_train = x_train/255.0\n",
    "y_train = np.array(labels)\n",
    "y_train = keras.utils.to_categorical(y_train,43)"
   ]
  },
  {
   "cell_type": "code",
   "execution_count": 39,
   "metadata": {},
   "outputs": [
    {
     "name": "stdout",
     "output_type": "stream",
     "text": [
      "Train : (27416, 30, 30, 3)\n",
      "Test : (11751, 30, 30, 3)\n"
     ]
    }
   ],
   "source": [
    "# Spli|t Data\n",
    "X_train,X_test,Y_train,Y_test = train_test_split(x_train,y_train,test_size = 0.3,random_state=0)\n",
    "print(\"Train :\", X_train.shape)\n",
    "print(\"Test :\", X_test.shape)"
   ]
  },
  {
   "cell_type": "code",
   "execution_count": 41,
   "metadata": {},
   "outputs": [
    {
     "name": "stdout",
     "output_type": "stream",
     "text": [
      "Train images\n"
     ]
    },
    {
     "data": {
      "image/png": "[encoded data removed]",
      "text/plain": [
       "<Figure size 432x288 with 1 Axes>"
      ]
     },
     "metadata": {
      "needs_background": "light"
     },
     "output_type": "display_data"
    },
    {
     "name": "stdout",
     "output_type": "stream",
     "text": [
      "Size of this image is (30, 30, 3)\n",
      "Class of the image is [0. 0. 0. 0. 0. 0. 0. 0. 0. 0. 0. 0. 0. 1. 0. 0. 0. 0. 0. 0. 0. 0. 0. 0.\n",
      " 0. 0. 0. 0. 0. 0. 0. 0. 0. 0. 0. 0. 0. 0. 0. 0. 0. 0. 0.]\n"
     ]
    },
    {
     "data": {
      "image/png": "[encoded data removed]",
      "text/plain": [
       "<Figure size 432x288 with 1 Axes>"
      ]
     },
     "metadata": {
      "needs_background": "light"
     },
     "output_type": "display_data"
    },
    {
     "name": "stdout",
     "output_type": "stream",
     "text": [
      "Size of this image is (30, 30, 3)\n",
      "Class of the image is [0. 0. 0. 0. 0. 0. 0. 0. 0. 0. 1. 0. 0. 0. 0. 0. 0. 0. 0. 0. 0. 0. 0. 0.\n",
      " 0. 0. 0. 0. 0. 0. 0. 0. 0. 0. 0. 0. 0. 0. 0. 0. 0. 0. 0.]\n"
     ]
    },
    {
     "data": {
      "image/png": "[encoded data removed]",
      "text/plain": [
       "<Figure size 432x288 with 1 Axes>"
      ]
     },
     "metadata": {
      "needs_background": "light"
     },
     "output_type": "display_data"
    },
    {
     "name": "stdout",
     "output_type": "stream",
     "text": [
      "Size of this image is (30, 30, 3)\n",
      "Class of the image is [0. 0. 1. 0. 0. 0. 0. 0. 0. 0. 0. 0. 0. 0. 0. 0. 0. 0. 0. 0. 0. 0. 0. 0.\n",
      " 0. 0. 0. 0. 0. 0. 0. 0. 0. 0. 0. 0. 0. 0. 0. 0. 0. 0. 0.]\n"
     ]
    }
   ],
   "source": [
    "import matplotlib.pyplot as plt\n",
    "\n",
    "def display_images(images, labels, amount):\n",
    "    for i in range(amount):\n",
    "        index = int(random.random() * len(images))\n",
    "        plt.axis('off')\n",
    "        plt.imshow(images[index])\n",
    "        plt.show()       \n",
    "        print(\"Size of this image is \" + str(images[index].shape))\n",
    "        print(\"Class of the image is \" + str(labels[index]))\n",
    "\n",
    "print(\"Train images\")\n",
    "display_images(X_train, Y_train, 3)"
   ]
  },
  {
   "cell_type": "code",
   "execution_count": 42,
   "metadata": {},
   "outputs": [
    {
     "name": "stdout",
     "output_type": "stream",
     "text": [
      "Model: \"sequential\"\n",
      "_________________________________________________________________\n",
      "Layer (type)                 Output Shape              Param #   \n",
      "=================================================================\n",
      "conv2d (Conv2D)              (None, 30, 30, 32)        896       \n",
      "_________________________________________________________________\n",
      "conv2d_1 (Conv2D)            (None, 30, 30, 32)        9248      \n",
      "_________________________________________________________________\n",
      "max_pooling2d (MaxPooling2D) (None, 15, 15, 32)        0         \n",
      "_________________________________________________________________\n",
      "dropout (Dropout)            (None, 15, 15, 32)        0         \n",
      "_________________________________________________________________\n",
      "conv2d_2 (Conv2D)            (None, 15, 15, 64)        18496     \n",
      "_________________________________________________________________\n",
      "conv2d_3 (Conv2D)            (None, 15, 15, 64)        36928     \n",
      "_________________________________________________________________\n",
      "max_pooling2d_1 (MaxPooling2 (None, 7, 7, 64)          0         \n",
      "_________________________________________________________________\n",
      "dropout_1 (Dropout)          (None, 7, 7, 64)          0         \n",
      "_________________________________________________________________\n",
      "flatten (Flatten)            (None, 3136)              0         \n",
      "_________________________________________________________________\n",
      "dense (Dense)                (None, 256)               803072    \n",
      "_________________________________________________________________\n",
      "dropout_2 (Dropout)          (None, 256)               0         \n",
      "_________________________________________________________________\n",
      "dense_1 (Dense)              (None, 43)                11051     \n",
      "=================================================================\n",
      "Total params: 879,691\n",
      "Trainable params: 879,691\n",
      "Non-trainable params: 0\n",
      "_________________________________________________________________\n"
     ]
    }
   ],
   "source": [
    "# Build Model\n",
    "model = keras.models.Sequential()\n",
    "\n",
    "model.add(Conv2D(32, kernel_size=(3,3), padding='same', activation='relu', input_shape=X_train.shape[1:]))\n",
    "model.add(Conv2D(32, kernel_size=(3,3), padding='same', activation='relu'))\n",
    "model.add(MaxPooling2D(pool_size=(2, 2)))\n",
    "model.add(Dropout(rate=0.25))\n",
    "\n",
    "model.add(Conv2D(64, kernel_size=(3, 3), padding='same', activation='relu'))\n",
    "model.add(Conv2D(64, kernel_size=(3, 3), padding='same', activation='relu'))\n",
    "model.add(MaxPooling2D(pool_size=(2, 2)))\n",
    "model.add(Dropout(rate=0.25))\n",
    "\n",
    "model.add(Flatten())\n",
    "model.add(Dense(256, activation='relu'))\n",
    "model.add(Dropout(rate=0.5))\n",
    "model.add(Dense(num_classes, activation='softmax'))\n",
    "\n",
    "model.summary()"
   ]
  },
  {
   "cell_type": "code",
   "execution_count": 43,
   "metadata": {},
   "outputs": [],
   "source": [
    "# Compile Model\n",
    "model.compile(loss='categorical_crossentropy',\n",
    "              optimizer='adam', metrics=['accuracy'])"
   ]
  },
  {
   "cell_type": "code",
   "execution_count": 44,
   "metadata": {},
   "outputs": [
    {
     "name": "stdout",
     "output_type": "stream",
     "text": [
      "Epoch 1/15\n",
      "857/857 [==============================] - 5s 6ms/step - loss: 1.4956 - accuracy: 0.5757 - val_loss: 0.1993 - val_accuracy: 0.9586\n",
      "Epoch 2/15\n",
      "857/857 [==============================] - 5s 5ms/step - loss: 0.2601 - accuracy: 0.9191 - val_loss: 0.0600 - val_accuracy: 0.9846\n",
      "Epoch 3/15\n",
      "857/857 [==============================] - 5s 6ms/step - loss: 0.1471 - accuracy: 0.9547 - val_loss: 0.0356 - val_accuracy: 0.9903\n",
      "Epoch 4/15\n",
      "857/857 [==============================] - 5s 5ms/step - loss: 0.1041 - accuracy: 0.9671 - val_loss: 0.0341 - val_accuracy: 0.9920\n",
      "Epoch 5/15\n",
      "857/857 [==============================] - 5s 6ms/step - loss: 0.0839 - accuracy: 0.9738 - val_loss: 0.0254 - val_accuracy: 0.9940\n",
      "Epoch 6/15\n",
      "857/857 [==============================] - 5s 5ms/step - loss: 0.0716 - accuracy: 0.9782 - val_loss: 0.0213 - val_accuracy: 0.9952\n",
      "Epoch 7/15\n",
      "857/857 [==============================] - 5s 5ms/step - loss: 0.0634 - accuracy: 0.9807 - val_loss: 0.0202 - val_accuracy: 0.9953\n",
      "Epoch 8/15\n",
      "857/857 [==============================] - 5s 5ms/step - loss: 0.0542 - accuracy: 0.9842 - val_loss: 0.0169 - val_accuracy: 0.9966\n",
      "Epoch 9/15\n",
      "857/857 [==============================] - 5s 5ms/step - loss: 0.0518 - accuracy: 0.9848 - val_loss: 0.0230 - val_accuracy: 0.9951\n",
      "Epoch 10/15\n",
      "857/857 [==============================] - 5s 5ms/step - loss: 0.0452 - accuracy: 0.9859 - val_loss: 0.0282 - val_accuracy: 0.9952\n",
      "Epoch 11/15\n",
      "857/857 [==============================] - 5s 5ms/step - loss: 0.0450 - accuracy: 0.9864 - val_loss: 0.0172 - val_accuracy: 0.9958\n",
      "Epoch 12/15\n",
      "857/857 [==============================] - 5s 5ms/step - loss: 0.0421 - accuracy: 0.9879 - val_loss: 0.0162 - val_accuracy: 0.9965\n",
      "Epoch 13/15\n",
      "857/857 [==============================] - 5s 5ms/step - loss: 0.0414 - accuracy: 0.9882 - val_loss: 0.0269 - val_accuracy: 0.9956\n",
      "Epoch 14/15\n",
      "857/857 [==============================] - 5s 5ms/step - loss: 0.0318 - accuracy: 0.9906 - val_loss: 0.0203 - val_accuracy: 0.9963\n",
      "Epoch 15/15\n",
      "857/857 [==============================] - 5s 5ms/step - loss: 0.0388 - accuracy: 0.9890 - val_loss: 0.0168 - val_accuracy: 0.9970\n"
     ]
    }
   ],
   "source": [
    "hist = model.fit(X_train, Y_train,\n",
    "                    validation_data=(X_test, Y_test),\n",
    "                    batch_size=32, epochs=15,verbose=1)"
   ]
  },
  {
   "cell_type": "code",
   "execution_count": 46,
   "metadata": {},
   "outputs": [
    {
     "data": {
      "text/plain": [
       "<matplotlib.legend.Legend at 0x14e5ae048e0>"
      ]
     },
     "execution_count": 46,
     "metadata": {},
     "output_type": "execute_result"
    },
    {
     "data": {
      "image/png": "[encoded data removed]",
      "text/plain": [
       "<Figure size 432x288 with 1 Axes>"
      ]
     },
     "metadata": {
      "needs_background": "light"
     },
     "output_type": "display_data"
    },
    {
     "data": {
      "image/png": "[encoded data removed]",
      "text/plain": [
       "<Figure size 432x288 with 1 Axes>"
      ]
     },
     "metadata": {
      "needs_background": "light"
     },
     "output_type": "display_data"
    }
   ],
   "source": [
    "import matplotlib.pyplot as plt\n",
    "from keras import models\n",
    "\n",
    "plt.figure(0)\n",
    "plt.plot(hist.history['accuracy'], label='training accuracy')\n",
    "plt.plot(hist.history['val_accuracy'], label='val accuracy')\n",
    "plt.title('Accuracy')\n",
    "plt.xlabel('epochs')\n",
    "plt.ylabel('accuracy')\n",
    "plt.legend()\n",
    "\n",
    "plt.figure(1)\n",
    "plt.plot(hist.history['loss'], label='training loss')\n",
    "plt.plot(hist.history['val_loss'], label='val loss')\n",
    "plt.title('Loss')\n",
    "plt.xlabel('epochs')\n",
    "plt.ylabel('loss')\n",
    "plt.legend()"
   ]
  },
  {
   "cell_type": "code",
   "execution_count": 48,
   "metadata": {},
   "outputs": [
    {
     "name": "stdout",
     "output_type": "stream",
     "text": [
      "7\n"
     ]
    }
   ],
   "source": [
    "img = keras.preprocessing.image.load_img(\"100.png\",\n",
    "                                         color_mode = 'rgb',\n",
    "                                         target_size=(30,30,3))\n",
    "\n",
    "img_array = keras.preprocessing.image.img_to_array(img)\n",
    "img_array = tf.expand_dims(img_array, 0)                   # Create batch axis\n",
    "\n",
    "predictions = model.predict(img_array)\n",
    "score = predictions[0]\n",
    "result = np.argmax(score)\n",
    "print(result)   "
   ]
  },
  {
   "cell_type": "code",
   "execution_count": 56,
   "metadata": {},
   "outputs": [
    {
     "name": "stdout",
     "output_type": "stream",
     "text": [
      "38\n"
     ]
    }
   ],
   "source": [
    "img = keras.preprocessing.image.load_img(\"stop3.png\",\n",
    "                                         #color_mode = 'rgb',\n",
    "                                         target_size=(30,30,3))\n",
    "\n",
    "img_array = keras.preprocessing.image.img_to_array(img)\n",
    "img_array = tf.expand_dims(img_array, 0)                   # Create batch axis\n",
    "\n",
    "predictions = model.predict(img_array)\n",
    "score = predictions[0]\n",
    "result = np.argmax(score)\n",
    "print(result)   "
   ]
  },
  {
   "cell_type": "code",
   "execution_count": 50,
   "metadata": {},
   "outputs": [
    {
     "name": "stdout",
     "output_type": "stream",
     "text": [
      "857/857 [==============================] - 2s 3ms/step - loss: 8.6986e-04 - accuracy: 0.9999\n"
     ]
    },
    {
     "data": {
      "text/plain": [
       "[0.00086985994130373, 0.9998540878295898]"
      ]
     },
     "execution_count": 50,
     "metadata": {},
     "output_type": "execute_result"
    }
   ],
   "source": [
    "model.evaluate(X_train, Y_train)"
   ]
  },
  {
   "cell_type": "code",
   "execution_count": 18,
   "metadata": {},
   "outputs": [
    {
     "name": "stdout",
     "output_type": "stream",
     "text": [
      "<class 'numpy.ndarray'>\n",
      "[[[51 56 50]\n",
      "  [47 49 47]\n",
      "  [48 53 55]\n",
      "  ...\n",
      "  [49 55 51]\n",
      "  [49 54 52]\n",
      "  [51 55 55]]\n",
      "\n",
      " [[55 59 51]\n",
      "  [50 51 49]\n",
      "  [51 57 60]\n",
      "  ...\n",
      "  [44 51 49]\n",
      "  [46 51 50]\n",
      "  [47 52 52]]\n",
      "\n",
      " [[58 61 51]\n",
      "  [54 54 52]\n",
      "  [50 55 60]\n",
      "  ...\n",
      "  [48 56 55]\n",
      "  [50 55 55]\n",
      "  [46 53 54]]\n",
      "\n",
      " ...\n",
      "\n",
      " [[33 33 33]\n",
      "  [34 35 36]\n",
      "  [33 35 37]\n",
      "  ...\n",
      "  [39 39 39]\n",
      "  [40 41 42]\n",
      "  [39 40 42]]\n",
      "\n",
      " [[30 30 29]\n",
      "  [31 31 31]\n",
      "  [30 32 32]\n",
      "  ...\n",
      "  [40 38 38]\n",
      "  [39 39 40]\n",
      "  [40 40 42]]\n",
      "\n",
      " [[33 33 31]\n",
      "  [32 33 32]\n",
      "  [31 33 32]\n",
      "  ...\n",
      "  [39 37 38]\n",
      "  [39 39 41]\n",
      "  [40 40 43]]]\n"
     ]
    }
   ],
   "source": [
    "img = cv2.imread('100.png')\n",
    "print(type(img))\n",
    "print(img)"
   ]
  }
 ],
 "metadata": {
  "kernelspec": {
   "display_name": "Python 3",
   "language": "python",
   "name": "python3"
  },
  "language_info": {
   "codemirror_mode": {
    "name": "ipython",
    "version": 3
   },
   "file_extension": ".py",
   "mimetype": "text/x-python",
   "name": "python",
   "nbconvert_exporter": "python",
   "pygments_lexer": "ipython3",
   "version": "3.8.3"
  }
 },
 "nbformat": 4,
 "nbformat_minor": 4
}
